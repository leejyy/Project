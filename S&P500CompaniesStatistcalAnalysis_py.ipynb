{
  "nbformat": 4,
  "nbformat_minor": 0,
  "metadata": {
    "colab": {
      "name": "S&P500CompaniesStatistcalAnalysis.py",
      "provenance": [],
      "authorship_tag": "ABX9TyNRFzjMtLxU4hpyF1If/BXO",
      "include_colab_link": true
    },
    "kernelspec": {
      "name": "python3",
      "display_name": "Python 3"
    },
    "language_info": {
      "name": "python"
    }
  },
  "cells": [
    {
      "cell_type": "markdown",
      "metadata": {
        "id": "view-in-github",
        "colab_type": "text"
      },
      "source": [
        "<a href=\"https://colab.research.google.com/github/leejyy/Project/blob/main/S%26P500CompaniesStatistcalAnalysis_py.ipynb\" target=\"_parent\"><img src=\"https://colab.research.google.com/assets/colab-badge.svg\" alt=\"Open In Colab\"/></a>"
      ]
    },
    {
      "cell_type": "markdown",
      "source": [
        "### Statistical Analysis with S&P companies' fianancial data"
      ],
      "metadata": {
        "id": "Y2VzRHGtlZJD"
      }
    },
    {
      "cell_type": "code",
      "execution_count": 1,
      "metadata": {
        "colab": {
          "base_uri": "https://localhost:8080/"
        },
        "id": "Z28wO9xbejfg",
        "outputId": "def0e8c5-97cf-4622-d699-cf3d63c3e2ad"
      },
      "outputs": [
        {
          "output_type": "stream",
          "name": "stderr",
          "text": [
            "/usr/local/lib/python3.7/dist-packages/statsmodels/tools/_testing.py:19: FutureWarning: pandas.util.testing is deprecated. Use the functions in the public API at pandas.testing instead.\n",
            "  import pandas.util.testing as tm\n"
          ]
        }
      ],
      "source": [
        "import pandas\n",
        "import numpy\n",
        "import matplotlib.pyplot as plt # Using it for data visualization\n",
        "import seaborn                  # Using it for data visualization \n",
        "import statsmodels.api as sm    # Using it for statistical packages"
      ]
    },
    {
      "cell_type": "code",
      "source": [
        "from google.colab import drive\n",
        "drive.mount('/content/drive')"
      ],
      "metadata": {
        "colab": {
          "base_uri": "https://localhost:8080/"
        },
        "id": "KIGSkIeVesCW",
        "outputId": "ef0f3e15-81fb-4f43-d702-f4e2367a4b25"
      },
      "execution_count": 2,
      "outputs": [
        {
          "output_type": "stream",
          "name": "stdout",
          "text": [
            "Mounted at /content/drive\n"
          ]
        }
      ]
    },
    {
      "cell_type": "code",
      "source": [
        "data=pandas.read_csv('/content/drive/MyDrive/Colab Notebooks/Dataset/financials.csv')"
      ],
      "metadata": {
        "id": "Bjgx1yFyfFKd"
      },
      "execution_count": 3,
      "outputs": []
    },
    {
      "cell_type": "code",
      "source": [
        "type(data) # 'data' is pandas data frame.\n",
        "print(len(data))        # the number of rows\n",
        "print(len(data.columns))# the number of columns"
      ],
      "metadata": {
        "colab": {
          "base_uri": "https://localhost:8080/"
        },
        "id": "LlaOEjJTjV09",
        "outputId": "73229907-518f-4d70-8192-a7ad9ec12c39"
      },
      "execution_count": 4,
      "outputs": [
        {
          "output_type": "stream",
          "name": "stdout",
          "text": [
            "505\n",
            "14\n"
          ]
        }
      ]
    },
    {
      "cell_type": "code",
      "source": [
        "# Counting qualitative data = value_counts (Frequency distribution)\n",
        "\n",
        "\n",
        "Sym_count = data[\"Symbol\"].value_counts(sort=False) # Count symbol of each S&P 500 company which is unique; therefore, there is only one for each company.\n",
        "Nam_count = data[\"Name\"].value_counts(sort=False)   # Unique\n",
        "Sec_count = data[\"Sector\"].value_counts(sort=False) # Count the number of each sector\n",
        "print(Sym_count, Nam_count, Sec_count, sep = '\\n\\n' )"
      ],
      "metadata": {
        "colab": {
          "base_uri": "https://localhost:8080/"
        },
        "id": "l45YWkKWjdO0",
        "outputId": "7b77502c-9988-42ff-c2af-1c04b0edfb9d"
      },
      "execution_count": 5,
      "outputs": [
        {
          "output_type": "stream",
          "name": "stdout",
          "text": [
            "MMM     1\n",
            "AOS     1\n",
            "ABT     1\n",
            "ABBV    1\n",
            "ACN     1\n",
            "       ..\n",
            "XYL     1\n",
            "YUM     1\n",
            "ZBH     1\n",
            "ZION    1\n",
            "ZTS     1\n",
            "Name: Symbol, Length: 505, dtype: int64\n",
            "\n",
            "3M Company                1\n",
            "A.O. Smith Corp           1\n",
            "Abbott Laboratories       1\n",
            "AbbVie Inc.               1\n",
            "Accenture plc             1\n",
            "                         ..\n",
            "Xylem Inc.                1\n",
            "Yum! Brands Inc           1\n",
            "Zimmer Biomet Holdings    1\n",
            "Zions Bancorp             1\n",
            "Zoetis                    1\n",
            "Name: Name, Length: 505, dtype: int64\n",
            "\n",
            "Industrials                   67\n",
            "Health Care                   61\n",
            "Information Technology        70\n",
            "Consumer Discretionary        84\n",
            "Utilities                     28\n",
            "Financials                    68\n",
            "Materials                     25\n",
            "Real Estate                   33\n",
            "Consumer Staples              34\n",
            "Energy                        32\n",
            "Telecommunication Services     3\n",
            "Name: Sector, dtype: int64\n"
          ]
        }
      ]
    },
    {
      "cell_type": "code",
      "source": [
        "print(data.columns) # the first rows which are names of each columns (variables)"
      ],
      "metadata": {
        "colab": {
          "base_uri": "https://localhost:8080/"
        },
        "id": "lcBpmq-Ajfku",
        "outputId": "f93685ae-36b9-4341-9906-b4f7773f6795"
      },
      "execution_count": 6,
      "outputs": [
        {
          "output_type": "stream",
          "name": "stdout",
          "text": [
            "Index(['Symbol', 'Name', 'Sector', 'Price', 'Price/Earnings', 'Dividend Yield',\n",
            "       'Earnings/Share', '52 Week Low', '52 Week High', 'Market Cap', 'EBITDA',\n",
            "       'Price/Sales', 'Price/Book', 'SEC Filings'],\n",
            "      dtype='object')\n"
          ]
        }
      ]
    },
    {
      "cell_type": "code",
      "source": [
        "type(data)"
      ],
      "metadata": {
        "colab": {
          "base_uri": "https://localhost:8080/"
        },
        "id": "ZOMpf2jdjkXD",
        "outputId": "cf6fb701-7534-46fb-d300-57a6383c089b"
      },
      "execution_count": 7,
      "outputs": [
        {
          "output_type": "execute_result",
          "data": {
            "text/plain": [
              "pandas.core.frame.DataFrame"
            ]
          },
          "metadata": {},
          "execution_count": 7
        }
      ]
    },
    {
      "cell_type": "code",
      "source": [
        "data.head() # To show the 5 rows(default) of data "
      ],
      "metadata": {
        "colab": {
          "base_uri": "https://localhost:8080/",
          "height": 371
        },
        "id": "l_rbyg2_jo1s",
        "outputId": "8b46fa80-e058-41e7-afde-bbc687a31923"
      },
      "execution_count": 8,
      "outputs": [
        {
          "output_type": "execute_result",
          "data": {
            "text/html": [
              "\n",
              "  <div id=\"df-0ef0817c-8d4e-4a56-a0d3-bc2bb4434837\">\n",
              "    <div class=\"colab-df-container\">\n",
              "      <div>\n",
              "<style scoped>\n",
              "    .dataframe tbody tr th:only-of-type {\n",
              "        vertical-align: middle;\n",
              "    }\n",
              "\n",
              "    .dataframe tbody tr th {\n",
              "        vertical-align: top;\n",
              "    }\n",
              "\n",
              "    .dataframe thead th {\n",
              "        text-align: right;\n",
              "    }\n",
              "</style>\n",
              "<table border=\"1\" class=\"dataframe\">\n",
              "  <thead>\n",
              "    <tr style=\"text-align: right;\">\n",
              "      <th></th>\n",
              "      <th>Symbol</th>\n",
              "      <th>Name</th>\n",
              "      <th>Sector</th>\n",
              "      <th>Price</th>\n",
              "      <th>Price/Earnings</th>\n",
              "      <th>Dividend Yield</th>\n",
              "      <th>Earnings/Share</th>\n",
              "      <th>52 Week Low</th>\n",
              "      <th>52 Week High</th>\n",
              "      <th>Market Cap</th>\n",
              "      <th>EBITDA</th>\n",
              "      <th>Price/Sales</th>\n",
              "      <th>Price/Book</th>\n",
              "      <th>SEC Filings</th>\n",
              "    </tr>\n",
              "  </thead>\n",
              "  <tbody>\n",
              "    <tr>\n",
              "      <th>0</th>\n",
              "      <td>MMM</td>\n",
              "      <td>3M Company</td>\n",
              "      <td>Industrials</td>\n",
              "      <td>222.89</td>\n",
              "      <td>24.31</td>\n",
              "      <td>2.332862</td>\n",
              "      <td>7.92</td>\n",
              "      <td>259.77</td>\n",
              "      <td>175.490</td>\n",
              "      <td>1.387210e+11</td>\n",
              "      <td>9.048000e+09</td>\n",
              "      <td>4.390271</td>\n",
              "      <td>11.34</td>\n",
              "      <td>http://www.sec.gov/cgi-bin/browse-edgar?action...</td>\n",
              "    </tr>\n",
              "    <tr>\n",
              "      <th>1</th>\n",
              "      <td>AOS</td>\n",
              "      <td>A.O. Smith Corp</td>\n",
              "      <td>Industrials</td>\n",
              "      <td>60.24</td>\n",
              "      <td>27.76</td>\n",
              "      <td>1.147959</td>\n",
              "      <td>1.70</td>\n",
              "      <td>68.39</td>\n",
              "      <td>48.925</td>\n",
              "      <td>1.078342e+10</td>\n",
              "      <td>6.010000e+08</td>\n",
              "      <td>3.575483</td>\n",
              "      <td>6.35</td>\n",
              "      <td>http://www.sec.gov/cgi-bin/browse-edgar?action...</td>\n",
              "    </tr>\n",
              "    <tr>\n",
              "      <th>2</th>\n",
              "      <td>ABT</td>\n",
              "      <td>Abbott Laboratories</td>\n",
              "      <td>Health Care</td>\n",
              "      <td>56.27</td>\n",
              "      <td>22.51</td>\n",
              "      <td>1.908982</td>\n",
              "      <td>0.26</td>\n",
              "      <td>64.60</td>\n",
              "      <td>42.280</td>\n",
              "      <td>1.021210e+11</td>\n",
              "      <td>5.744000e+09</td>\n",
              "      <td>3.740480</td>\n",
              "      <td>3.19</td>\n",
              "      <td>http://www.sec.gov/cgi-bin/browse-edgar?action...</td>\n",
              "    </tr>\n",
              "    <tr>\n",
              "      <th>3</th>\n",
              "      <td>ABBV</td>\n",
              "      <td>AbbVie Inc.</td>\n",
              "      <td>Health Care</td>\n",
              "      <td>108.48</td>\n",
              "      <td>19.41</td>\n",
              "      <td>2.499560</td>\n",
              "      <td>3.29</td>\n",
              "      <td>125.86</td>\n",
              "      <td>60.050</td>\n",
              "      <td>1.813860e+11</td>\n",
              "      <td>1.031000e+10</td>\n",
              "      <td>6.291571</td>\n",
              "      <td>26.14</td>\n",
              "      <td>http://www.sec.gov/cgi-bin/browse-edgar?action...</td>\n",
              "    </tr>\n",
              "    <tr>\n",
              "      <th>4</th>\n",
              "      <td>ACN</td>\n",
              "      <td>Accenture plc</td>\n",
              "      <td>Information Technology</td>\n",
              "      <td>150.51</td>\n",
              "      <td>25.47</td>\n",
              "      <td>1.714470</td>\n",
              "      <td>5.44</td>\n",
              "      <td>162.60</td>\n",
              "      <td>114.820</td>\n",
              "      <td>9.876586e+10</td>\n",
              "      <td>5.643228e+09</td>\n",
              "      <td>2.604117</td>\n",
              "      <td>10.62</td>\n",
              "      <td>http://www.sec.gov/cgi-bin/browse-edgar?action...</td>\n",
              "    </tr>\n",
              "  </tbody>\n",
              "</table>\n",
              "</div>\n",
              "      <button class=\"colab-df-convert\" onclick=\"convertToInteractive('df-0ef0817c-8d4e-4a56-a0d3-bc2bb4434837')\"\n",
              "              title=\"Convert this dataframe to an interactive table.\"\n",
              "              style=\"display:none;\">\n",
              "        \n",
              "  <svg xmlns=\"http://www.w3.org/2000/svg\" height=\"24px\"viewBox=\"0 0 24 24\"\n",
              "       width=\"24px\">\n",
              "    <path d=\"M0 0h24v24H0V0z\" fill=\"none\"/>\n",
              "    <path d=\"M18.56 5.44l.94 2.06.94-2.06 2.06-.94-2.06-.94-.94-2.06-.94 2.06-2.06.94zm-11 1L8.5 8.5l.94-2.06 2.06-.94-2.06-.94L8.5 2.5l-.94 2.06-2.06.94zm10 10l.94 2.06.94-2.06 2.06-.94-2.06-.94-.94-2.06-.94 2.06-2.06.94z\"/><path d=\"M17.41 7.96l-1.37-1.37c-.4-.4-.92-.59-1.43-.59-.52 0-1.04.2-1.43.59L10.3 9.45l-7.72 7.72c-.78.78-.78 2.05 0 2.83L4 21.41c.39.39.9.59 1.41.59.51 0 1.02-.2 1.41-.59l7.78-7.78 2.81-2.81c.8-.78.8-2.07 0-2.86zM5.41 20L4 18.59l7.72-7.72 1.47 1.35L5.41 20z\"/>\n",
              "  </svg>\n",
              "      </button>\n",
              "      \n",
              "  <style>\n",
              "    .colab-df-container {\n",
              "      display:flex;\n",
              "      flex-wrap:wrap;\n",
              "      gap: 12px;\n",
              "    }\n",
              "\n",
              "    .colab-df-convert {\n",
              "      background-color: #E8F0FE;\n",
              "      border: none;\n",
              "      border-radius: 50%;\n",
              "      cursor: pointer;\n",
              "      display: none;\n",
              "      fill: #1967D2;\n",
              "      height: 32px;\n",
              "      padding: 0 0 0 0;\n",
              "      width: 32px;\n",
              "    }\n",
              "\n",
              "    .colab-df-convert:hover {\n",
              "      background-color: #E2EBFA;\n",
              "      box-shadow: 0px 1px 2px rgba(60, 64, 67, 0.3), 0px 1px 3px 1px rgba(60, 64, 67, 0.15);\n",
              "      fill: #174EA6;\n",
              "    }\n",
              "\n",
              "    [theme=dark] .colab-df-convert {\n",
              "      background-color: #3B4455;\n",
              "      fill: #D2E3FC;\n",
              "    }\n",
              "\n",
              "    [theme=dark] .colab-df-convert:hover {\n",
              "      background-color: #434B5C;\n",
              "      box-shadow: 0px 1px 3px 1px rgba(0, 0, 0, 0.15);\n",
              "      filter: drop-shadow(0px 1px 2px rgba(0, 0, 0, 0.3));\n",
              "      fill: #FFFFFF;\n",
              "    }\n",
              "  </style>\n",
              "\n",
              "      <script>\n",
              "        const buttonEl =\n",
              "          document.querySelector('#df-0ef0817c-8d4e-4a56-a0d3-bc2bb4434837 button.colab-df-convert');\n",
              "        buttonEl.style.display =\n",
              "          google.colab.kernel.accessAllowed ? 'block' : 'none';\n",
              "\n",
              "        async function convertToInteractive(key) {\n",
              "          const element = document.querySelector('#df-0ef0817c-8d4e-4a56-a0d3-bc2bb4434837');\n",
              "          const dataTable =\n",
              "            await google.colab.kernel.invokeFunction('convertToInteractive',\n",
              "                                                     [key], {});\n",
              "          if (!dataTable) return;\n",
              "\n",
              "          const docLinkHtml = 'Like what you see? Visit the ' +\n",
              "            '<a target=\"_blank\" href=https://colab.research.google.com/notebooks/data_table.ipynb>data table notebook</a>'\n",
              "            + ' to learn more about interactive tables.';\n",
              "          element.innerHTML = '';\n",
              "          dataTable['output_type'] = 'display_data';\n",
              "          await google.colab.output.renderOutput(dataTable, element);\n",
              "          const docLink = document.createElement('div');\n",
              "          docLink.innerHTML = docLinkHtml;\n",
              "          element.appendChild(docLink);\n",
              "        }\n",
              "      </script>\n",
              "    </div>\n",
              "  </div>\n",
              "  "
            ],
            "text/plain": [
              "  Symbol  ...                                        SEC Filings\n",
              "0    MMM  ...  http://www.sec.gov/cgi-bin/browse-edgar?action...\n",
              "1    AOS  ...  http://www.sec.gov/cgi-bin/browse-edgar?action...\n",
              "2    ABT  ...  http://www.sec.gov/cgi-bin/browse-edgar?action...\n",
              "3   ABBV  ...  http://www.sec.gov/cgi-bin/browse-edgar?action...\n",
              "4    ACN  ...  http://www.sec.gov/cgi-bin/browse-edgar?action...\n",
              "\n",
              "[5 rows x 14 columns]"
            ]
          },
          "metadata": {},
          "execution_count": 8
        }
      ]
    },
    {
      "cell_type": "code",
      "source": [
        "df_show = data.groupby(['Sector'])['Price'].mean()\n",
        "df_show"
      ],
      "metadata": {
        "colab": {
          "base_uri": "https://localhost:8080/"
        },
        "id": "klmpDpmijtDv",
        "outputId": "a5ce5eeb-d3f7-4c77-95bc-d2ebeb507746"
      },
      "execution_count": 9,
      "outputs": [
        {
          "output_type": "execute_result",
          "data": {
            "text/plain": [
              "Sector\n",
              "Consumer Discretionary        124.034524\n",
              "Consumer Staples               79.764118\n",
              "Energy                         57.887500\n",
              "Financials                     89.056029\n",
              "Health Care                   132.515738\n",
              "Industrials                   116.887612\n",
              "Information Technology        119.242857\n",
              "Materials                     102.386800\n",
              "Real Estate                    88.712727\n",
              "Telecommunication Services     33.603333\n",
              "Utilities                      55.194643\n",
              "Name: Price, dtype: float64"
            ]
          },
          "metadata": {},
          "execution_count": 9
        }
      ]
    },
    {
      "cell_type": "code",
      "source": [
        "show = pandas.DataFrame(df_show)\n",
        "show.rename({'Sector': 'Sector','Price': 'Avg Price'}, axis=1)"
      ],
      "metadata": {
        "colab": {
          "base_uri": "https://localhost:8080/",
          "height": 426
        },
        "id": "jFVViQFzjw6U",
        "outputId": "8b1f4328-bf28-4eba-811f-ed6bc62656dc"
      },
      "execution_count": 10,
      "outputs": [
        {
          "output_type": "execute_result",
          "data": {
            "text/html": [
              "\n",
              "  <div id=\"df-5bdba0b5-d100-4ead-b030-4e0201b8c165\">\n",
              "    <div class=\"colab-df-container\">\n",
              "      <div>\n",
              "<style scoped>\n",
              "    .dataframe tbody tr th:only-of-type {\n",
              "        vertical-align: middle;\n",
              "    }\n",
              "\n",
              "    .dataframe tbody tr th {\n",
              "        vertical-align: top;\n",
              "    }\n",
              "\n",
              "    .dataframe thead th {\n",
              "        text-align: right;\n",
              "    }\n",
              "</style>\n",
              "<table border=\"1\" class=\"dataframe\">\n",
              "  <thead>\n",
              "    <tr style=\"text-align: right;\">\n",
              "      <th></th>\n",
              "      <th>Avg Price</th>\n",
              "    </tr>\n",
              "    <tr>\n",
              "      <th>Sector</th>\n",
              "      <th></th>\n",
              "    </tr>\n",
              "  </thead>\n",
              "  <tbody>\n",
              "    <tr>\n",
              "      <th>Consumer Discretionary</th>\n",
              "      <td>124.034524</td>\n",
              "    </tr>\n",
              "    <tr>\n",
              "      <th>Consumer Staples</th>\n",
              "      <td>79.764118</td>\n",
              "    </tr>\n",
              "    <tr>\n",
              "      <th>Energy</th>\n",
              "      <td>57.887500</td>\n",
              "    </tr>\n",
              "    <tr>\n",
              "      <th>Financials</th>\n",
              "      <td>89.056029</td>\n",
              "    </tr>\n",
              "    <tr>\n",
              "      <th>Health Care</th>\n",
              "      <td>132.515738</td>\n",
              "    </tr>\n",
              "    <tr>\n",
              "      <th>Industrials</th>\n",
              "      <td>116.887612</td>\n",
              "    </tr>\n",
              "    <tr>\n",
              "      <th>Information Technology</th>\n",
              "      <td>119.242857</td>\n",
              "    </tr>\n",
              "    <tr>\n",
              "      <th>Materials</th>\n",
              "      <td>102.386800</td>\n",
              "    </tr>\n",
              "    <tr>\n",
              "      <th>Real Estate</th>\n",
              "      <td>88.712727</td>\n",
              "    </tr>\n",
              "    <tr>\n",
              "      <th>Telecommunication Services</th>\n",
              "      <td>33.603333</td>\n",
              "    </tr>\n",
              "    <tr>\n",
              "      <th>Utilities</th>\n",
              "      <td>55.194643</td>\n",
              "    </tr>\n",
              "  </tbody>\n",
              "</table>\n",
              "</div>\n",
              "      <button class=\"colab-df-convert\" onclick=\"convertToInteractive('df-5bdba0b5-d100-4ead-b030-4e0201b8c165')\"\n",
              "              title=\"Convert this dataframe to an interactive table.\"\n",
              "              style=\"display:none;\">\n",
              "        \n",
              "  <svg xmlns=\"http://www.w3.org/2000/svg\" height=\"24px\"viewBox=\"0 0 24 24\"\n",
              "       width=\"24px\">\n",
              "    <path d=\"M0 0h24v24H0V0z\" fill=\"none\"/>\n",
              "    <path d=\"M18.56 5.44l.94 2.06.94-2.06 2.06-.94-2.06-.94-.94-2.06-.94 2.06-2.06.94zm-11 1L8.5 8.5l.94-2.06 2.06-.94-2.06-.94L8.5 2.5l-.94 2.06-2.06.94zm10 10l.94 2.06.94-2.06 2.06-.94-2.06-.94-.94-2.06-.94 2.06-2.06.94z\"/><path d=\"M17.41 7.96l-1.37-1.37c-.4-.4-.92-.59-1.43-.59-.52 0-1.04.2-1.43.59L10.3 9.45l-7.72 7.72c-.78.78-.78 2.05 0 2.83L4 21.41c.39.39.9.59 1.41.59.51 0 1.02-.2 1.41-.59l7.78-7.78 2.81-2.81c.8-.78.8-2.07 0-2.86zM5.41 20L4 18.59l7.72-7.72 1.47 1.35L5.41 20z\"/>\n",
              "  </svg>\n",
              "      </button>\n",
              "      \n",
              "  <style>\n",
              "    .colab-df-container {\n",
              "      display:flex;\n",
              "      flex-wrap:wrap;\n",
              "      gap: 12px;\n",
              "    }\n",
              "\n",
              "    .colab-df-convert {\n",
              "      background-color: #E8F0FE;\n",
              "      border: none;\n",
              "      border-radius: 50%;\n",
              "      cursor: pointer;\n",
              "      display: none;\n",
              "      fill: #1967D2;\n",
              "      height: 32px;\n",
              "      padding: 0 0 0 0;\n",
              "      width: 32px;\n",
              "    }\n",
              "\n",
              "    .colab-df-convert:hover {\n",
              "      background-color: #E2EBFA;\n",
              "      box-shadow: 0px 1px 2px rgba(60, 64, 67, 0.3), 0px 1px 3px 1px rgba(60, 64, 67, 0.15);\n",
              "      fill: #174EA6;\n",
              "    }\n",
              "\n",
              "    [theme=dark] .colab-df-convert {\n",
              "      background-color: #3B4455;\n",
              "      fill: #D2E3FC;\n",
              "    }\n",
              "\n",
              "    [theme=dark] .colab-df-convert:hover {\n",
              "      background-color: #434B5C;\n",
              "      box-shadow: 0px 1px 3px 1px rgba(0, 0, 0, 0.15);\n",
              "      filter: drop-shadow(0px 1px 2px rgba(0, 0, 0, 0.3));\n",
              "      fill: #FFFFFF;\n",
              "    }\n",
              "  </style>\n",
              "\n",
              "      <script>\n",
              "        const buttonEl =\n",
              "          document.querySelector('#df-5bdba0b5-d100-4ead-b030-4e0201b8c165 button.colab-df-convert');\n",
              "        buttonEl.style.display =\n",
              "          google.colab.kernel.accessAllowed ? 'block' : 'none';\n",
              "\n",
              "        async function convertToInteractive(key) {\n",
              "          const element = document.querySelector('#df-5bdba0b5-d100-4ead-b030-4e0201b8c165');\n",
              "          const dataTable =\n",
              "            await google.colab.kernel.invokeFunction('convertToInteractive',\n",
              "                                                     [key], {});\n",
              "          if (!dataTable) return;\n",
              "\n",
              "          const docLinkHtml = 'Like what you see? Visit the ' +\n",
              "            '<a target=\"_blank\" href=https://colab.research.google.com/notebooks/data_table.ipynb>data table notebook</a>'\n",
              "            + ' to learn more about interactive tables.';\n",
              "          element.innerHTML = '';\n",
              "          dataTable['output_type'] = 'display_data';\n",
              "          await google.colab.output.renderOutput(dataTable, element);\n",
              "          const docLink = document.createElement('div');\n",
              "          docLink.innerHTML = docLinkHtml;\n",
              "          element.appendChild(docLink);\n",
              "        }\n",
              "      </script>\n",
              "    </div>\n",
              "  </div>\n",
              "  "
            ],
            "text/plain": [
              "                             Avg Price\n",
              "Sector                                \n",
              "Consumer Discretionary      124.034524\n",
              "Consumer Staples             79.764118\n",
              "Energy                       57.887500\n",
              "Financials                   89.056029\n",
              "Health Care                 132.515738\n",
              "Industrials                 116.887612\n",
              "Information Technology      119.242857\n",
              "Materials                   102.386800\n",
              "Real Estate                  88.712727\n",
              "Telecommunication Services   33.603333\n",
              "Utilities                    55.194643"
            ]
          },
          "metadata": {},
          "execution_count": 10
        }
      ]
    },
    {
      "cell_type": "code",
      "source": [
        "# To show descriptive statistics\n",
        "\n",
        "data['Sector'].describe()"
      ],
      "metadata": {
        "colab": {
          "base_uri": "https://localhost:8080/"
        },
        "id": "a5jwSK8Gj4KB",
        "outputId": "15638d34-71e7-4b23-8581-41a131f8b58a"
      },
      "execution_count": 11,
      "outputs": [
        {
          "output_type": "execute_result",
          "data": {
            "text/plain": [
              "count                        505\n",
              "unique                        11\n",
              "top       Consumer Discretionary\n",
              "freq                          84\n",
              "Name: Sector, dtype: object"
            ]
          },
          "metadata": {},
          "execution_count": 11
        }
      ]
    },
    {
      "cell_type": "code",
      "source": [
        "seaborn.countplot(x='Sector', data=data)\n",
        "plt.xlabel(\"An area of the economy where businesses share a related product or service\")\n",
        "plt.ylabel(\"Number of companies in each Sector\")\n",
        "plt.xticks(rotation = 90)"
      ],
      "metadata": {
        "colab": {
          "base_uri": "https://localhost:8080/",
          "height": 446
        },
        "id": "FcDGs5zyj8td",
        "outputId": "3f054fa8-2185-4a54-8e10-e32c83e281f9"
      },
      "execution_count": 12,
      "outputs": [
        {
          "output_type": "execute_result",
          "data": {
            "text/plain": [
              "(array([ 0,  1,  2,  3,  4,  5,  6,  7,  8,  9, 10]),\n",
              " <a list of 11 Text major ticklabel objects>)"
            ]
          },
          "metadata": {},
          "execution_count": 12
        },
        {
          "output_type": "display_data",
          "data": {
            "image/png": "[encoded data removed]",
            "text/plain": [
              "<Figure size 432x288 with 1 Axes>"
            ]
          },
          "metadata": {
            "needs_background": "light"
          }
        }
      ]
    },
    {
      "cell_type": "code",
      "source": [
        "print(Sec_count, sep = '\\n\\n' )"
      ],
      "metadata": {
        "colab": {
          "base_uri": "https://localhost:8080/"
        },
        "id": "LeuMr5uBkGDY",
        "outputId": "90e2284c-fcef-42d6-e823-35d7a38d75a5"
      },
      "execution_count": 13,
      "outputs": [
        {
          "output_type": "stream",
          "name": "stdout",
          "text": [
            "Industrials                   67\n",
            "Health Care                   61\n",
            "Information Technology        70\n",
            "Consumer Discretionary        84\n",
            "Utilities                     28\n",
            "Financials                    68\n",
            "Materials                     25\n",
            "Real Estate                   33\n",
            "Consumer Staples              34\n",
            "Energy                        32\n",
            "Telecommunication Services     3\n",
            "Name: Sector, dtype: int64\n"
          ]
        }
      ]
    },
    {
      "cell_type": "code",
      "source": [
        "# Convert to Numeric\n",
        "\n",
        "data[\"Price\"]=pandas.to_numeric(data[\"Price\"])                           # Price: Price per share of the company\n",
        "data[\"Price/Earnings\"]=pandas.to_numeric(data[\"Price/Earnings\"])         # Price/Earnings: The ratio of a company’s share price to its earnings per share\n",
        "data[\"Dividend Yield\"]=pandas.to_numeric(data[\"Dividend Yield\"])         # Dividend Yield: The ratio of the annual dividends per share divided by the price per share\n",
        "data[\"Earnings/Share\"]=pandas.to_numeric(data[\"Earnings/Share\"])         # Earnings/Share: A company’s profit divided by the number of shares of its stock\n",
        "data[\"52 Week Low\"]=pandas.to_numeric(data[\"52 Week Low\"])               # 52 Week Low: The annual low of a company’s share price\n",
        "data[\"52 Week High\"]=pandas.to_numeric(data[\"52 Week High\"])             # 52 Week High: The annual high of a company’s share price\n",
        "data[\"Market Cap\"]=pandas.to_numeric(data[\"Market Cap\"])                 # Market Cap: The market value of a company’s shares (calculated as share price x number of shares)\n",
        "data[\"EBITDA\"]=pandas.to_numeric(data[\"EBITDA\"])                         # EBITDA: A company’s earnings before interest, taxes, depreciation, and amortization; often used as a proxy for its profitability\n",
        "data[\"Price/Sales\"]=pandas.to_numeric(data[\"Price/Sales\"])               # Price/Sales: A company’s market cap divided by its total sales or revenue over the past year\n",
        "data[\"Price/Book\"]=pandas.to_numeric(data[\"Price/Book\"])                 # Price/Book: A company’s price per share divided by its book value"
      ],
      "metadata": {
        "id": "T6EZHPtakKA0"
      },
      "execution_count": 14,
      "outputs": []
    },
    {
      "cell_type": "code",
      "source": [
        "# Descriptive statistics\n",
        "data['Price'].describe()\n"
      ],
      "metadata": {
        "colab": {
          "base_uri": "https://localhost:8080/"
        },
        "id": "S0FJOf3kkhkH",
        "outputId": "9e9c9b33-ba9f-4285-9e46-47788a141049"
      },
      "execution_count": 15,
      "outputs": [
        {
          "output_type": "execute_result",
          "data": {
            "text/plain": [
              "count     505.000000\n",
              "mean      103.830634\n",
              "std       134.427636\n",
              "min         2.820000\n",
              "25%        46.250000\n",
              "50%        73.920000\n",
              "75%       116.540000\n",
              "max      1806.060000\n",
              "Name: Price, dtype: float64"
            ]
          },
          "metadata": {},
          "execution_count": 15
        }
      ]
    },
    {
      "cell_type": "code",
      "source": [
        "# Correlation matrix\n",
        "# Depedent variable: Price and all other predictors\n",
        "\n",
        "data.corr()"
      ],
      "metadata": {
        "colab": {
          "base_uri": "https://localhost:8080/",
          "height": 363
        },
        "id": "ROlZT4hzkjMQ",
        "outputId": "46d32d2b-08cf-4740-aa95-99bab42e1d43"
      },
      "execution_count": 16,
      "outputs": [
        {
          "output_type": "execute_result",
          "data": {
            "text/html": [
              "\n",
              "  <div id=\"df-de8beb45-b636-405a-bb69-1924e2553916\">\n",
              "    <div class=\"colab-df-container\">\n",
              "      <div>\n",
              "<style scoped>\n",
              "    .dataframe tbody tr th:only-of-type {\n",
              "        vertical-align: middle;\n",
              "    }\n",
              "\n",
              "    .dataframe tbody tr th {\n",
              "        vertical-align: top;\n",
              "    }\n",
              "\n",
              "    .dataframe thead th {\n",
              "        text-align: right;\n",
              "    }\n",
              "</style>\n",
              "<table border=\"1\" class=\"dataframe\">\n",
              "  <thead>\n",
              "    <tr style=\"text-align: right;\">\n",
              "      <th></th>\n",
              "      <th>Price</th>\n",
              "      <th>Price/Earnings</th>\n",
              "      <th>Dividend Yield</th>\n",
              "      <th>Earnings/Share</th>\n",
              "      <th>52 Week Low</th>\n",
              "      <th>52 Week High</th>\n",
              "      <th>Market Cap</th>\n",
              "      <th>EBITDA</th>\n",
              "      <th>Price/Sales</th>\n",
              "      <th>Price/Book</th>\n",
              "    </tr>\n",
              "  </thead>\n",
              "  <tbody>\n",
              "    <tr>\n",
              "      <th>Price</th>\n",
              "      <td>1.000000</td>\n",
              "      <td>0.194761</td>\n",
              "      <td>-0.244630</td>\n",
              "      <td>0.591061</td>\n",
              "      <td>0.995076</td>\n",
              "      <td>0.982787</td>\n",
              "      <td>0.406474</td>\n",
              "      <td>0.180321</td>\n",
              "      <td>0.181625</td>\n",
              "      <td>0.023637</td>\n",
              "    </tr>\n",
              "    <tr>\n",
              "      <th>Price/Earnings</th>\n",
              "      <td>0.194761</td>\n",
              "      <td>1.000000</td>\n",
              "      <td>-0.181330</td>\n",
              "      <td>0.004570</td>\n",
              "      <td>0.185356</td>\n",
              "      <td>0.144700</td>\n",
              "      <td>0.131381</td>\n",
              "      <td>0.002950</td>\n",
              "      <td>0.188558</td>\n",
              "      <td>0.000366</td>\n",
              "    </tr>\n",
              "    <tr>\n",
              "      <th>Dividend Yield</th>\n",
              "      <td>-0.244630</td>\n",
              "      <td>-0.181330</td>\n",
              "      <td>1.000000</td>\n",
              "      <td>-0.077235</td>\n",
              "      <td>-0.244426</td>\n",
              "      <td>-0.207953</td>\n",
              "      <td>-0.021794</td>\n",
              "      <td>0.126133</td>\n",
              "      <td>-0.077724</td>\n",
              "      <td>0.089369</td>\n",
              "    </tr>\n",
              "    <tr>\n",
              "      <th>Earnings/Share</th>\n",
              "      <td>0.591061</td>\n",
              "      <td>0.004570</td>\n",
              "      <td>-0.077235</td>\n",
              "      <td>1.000000</td>\n",
              "      <td>0.588595</td>\n",
              "      <td>0.604894</td>\n",
              "      <td>0.194063</td>\n",
              "      <td>0.180583</td>\n",
              "      <td>-0.036178</td>\n",
              "      <td>0.032254</td>\n",
              "    </tr>\n",
              "    <tr>\n",
              "      <th>52 Week Low</th>\n",
              "      <td>0.995076</td>\n",
              "      <td>0.185356</td>\n",
              "      <td>-0.244426</td>\n",
              "      <td>0.588595</td>\n",
              "      <td>1.000000</td>\n",
              "      <td>0.984853</td>\n",
              "      <td>0.398504</td>\n",
              "      <td>0.176277</td>\n",
              "      <td>0.188823</td>\n",
              "      <td>0.023322</td>\n",
              "    </tr>\n",
              "    <tr>\n",
              "      <th>52 Week High</th>\n",
              "      <td>0.982787</td>\n",
              "      <td>0.144700</td>\n",
              "      <td>-0.207953</td>\n",
              "      <td>0.604894</td>\n",
              "      <td>0.984853</td>\n",
              "      <td>1.000000</td>\n",
              "      <td>0.375588</td>\n",
              "      <td>0.179666</td>\n",
              "      <td>0.173721</td>\n",
              "      <td>0.017794</td>\n",
              "    </tr>\n",
              "    <tr>\n",
              "      <th>Market Cap</th>\n",
              "      <td>0.406474</td>\n",
              "      <td>0.131381</td>\n",
              "      <td>-0.021794</td>\n",
              "      <td>0.194063</td>\n",
              "      <td>0.398504</td>\n",
              "      <td>0.375588</td>\n",
              "      <td>1.000000</td>\n",
              "      <td>0.771344</td>\n",
              "      <td>0.095249</td>\n",
              "      <td>0.034411</td>\n",
              "    </tr>\n",
              "    <tr>\n",
              "      <th>EBITDA</th>\n",
              "      <td>0.180321</td>\n",
              "      <td>0.002950</td>\n",
              "      <td>0.126133</td>\n",
              "      <td>0.180583</td>\n",
              "      <td>0.176277</td>\n",
              "      <td>0.179666</td>\n",
              "      <td>0.771344</td>\n",
              "      <td>1.000000</td>\n",
              "      <td>-0.037175</td>\n",
              "      <td>0.035547</td>\n",
              "    </tr>\n",
              "    <tr>\n",
              "      <th>Price/Sales</th>\n",
              "      <td>0.181625</td>\n",
              "      <td>0.188558</td>\n",
              "      <td>-0.077724</td>\n",
              "      <td>-0.036178</td>\n",
              "      <td>0.188823</td>\n",
              "      <td>0.173721</td>\n",
              "      <td>0.095249</td>\n",
              "      <td>-0.037175</td>\n",
              "      <td>1.000000</td>\n",
              "      <td>0.012337</td>\n",
              "    </tr>\n",
              "    <tr>\n",
              "      <th>Price/Book</th>\n",
              "      <td>0.023637</td>\n",
              "      <td>0.000366</td>\n",
              "      <td>0.089369</td>\n",
              "      <td>0.032254</td>\n",
              "      <td>0.023322</td>\n",
              "      <td>0.017794</td>\n",
              "      <td>0.034411</td>\n",
              "      <td>0.035547</td>\n",
              "      <td>0.012337</td>\n",
              "      <td>1.000000</td>\n",
              "    </tr>\n",
              "  </tbody>\n",
              "</table>\n",
              "</div>\n",
              "      <button class=\"colab-df-convert\" onclick=\"convertToInteractive('df-de8beb45-b636-405a-bb69-1924e2553916')\"\n",
              "              title=\"Convert this dataframe to an interactive table.\"\n",
              "              style=\"display:none;\">\n",
              "        \n",
              "  <svg xmlns=\"http://www.w3.org/2000/svg\" height=\"24px\"viewBox=\"0 0 24 24\"\n",
              "       width=\"24px\">\n",
              "    <path d=\"M0 0h24v24H0V0z\" fill=\"none\"/>\n",
              "    <path d=\"M18.56 5.44l.94 2.06.94-2.06 2.06-.94-2.06-.94-.94-2.06-.94 2.06-2.06.94zm-11 1L8.5 8.5l.94-2.06 2.06-.94-2.06-.94L8.5 2.5l-.94 2.06-2.06.94zm10 10l.94 2.06.94-2.06 2.06-.94-2.06-.94-.94-2.06-.94 2.06-2.06.94z\"/><path d=\"M17.41 7.96l-1.37-1.37c-.4-.4-.92-.59-1.43-.59-.52 0-1.04.2-1.43.59L10.3 9.45l-7.72 7.72c-.78.78-.78 2.05 0 2.83L4 21.41c.39.39.9.59 1.41.59.51 0 1.02-.2 1.41-.59l7.78-7.78 2.81-2.81c.8-.78.8-2.07 0-2.86zM5.41 20L4 18.59l7.72-7.72 1.47 1.35L5.41 20z\"/>\n",
              "  </svg>\n",
              "      </button>\n",
              "      \n",
              "  <style>\n",
              "    .colab-df-container {\n",
              "      display:flex;\n",
              "      flex-wrap:wrap;\n",
              "      gap: 12px;\n",
              "    }\n",
              "\n",
              "    .colab-df-convert {\n",
              "      background-color: #E8F0FE;\n",
              "      border: none;\n",
              "      border-radius: 50%;\n",
              "      cursor: pointer;\n",
              "      display: none;\n",
              "      fill: #1967D2;\n",
              "      height: 32px;\n",
              "      padding: 0 0 0 0;\n",
              "      width: 32px;\n",
              "    }\n",
              "\n",
              "    .colab-df-convert:hover {\n",
              "      background-color: #E2EBFA;\n",
              "      box-shadow: 0px 1px 2px rgba(60, 64, 67, 0.3), 0px 1px 3px 1px rgba(60, 64, 67, 0.15);\n",
              "      fill: #174EA6;\n",
              "    }\n",
              "\n",
              "    [theme=dark] .colab-df-convert {\n",
              "      background-color: #3B4455;\n",
              "      fill: #D2E3FC;\n",
              "    }\n",
              "\n",
              "    [theme=dark] .colab-df-convert:hover {\n",
              "      background-color: #434B5C;\n",
              "      box-shadow: 0px 1px 3px 1px rgba(0, 0, 0, 0.15);\n",
              "      filter: drop-shadow(0px 1px 2px rgba(0, 0, 0, 0.3));\n",
              "      fill: #FFFFFF;\n",
              "    }\n",
              "  </style>\n",
              "\n",
              "      <script>\n",
              "        const buttonEl =\n",
              "          document.querySelector('#df-de8beb45-b636-405a-bb69-1924e2553916 button.colab-df-convert');\n",
              "        buttonEl.style.display =\n",
              "          google.colab.kernel.accessAllowed ? 'block' : 'none';\n",
              "\n",
              "        async function convertToInteractive(key) {\n",
              "          const element = document.querySelector('#df-de8beb45-b636-405a-bb69-1924e2553916');\n",
              "          const dataTable =\n",
              "            await google.colab.kernel.invokeFunction('convertToInteractive',\n",
              "                                                     [key], {});\n",
              "          if (!dataTable) return;\n",
              "\n",
              "          const docLinkHtml = 'Like what you see? Visit the ' +\n",
              "            '<a target=\"_blank\" href=https://colab.research.google.com/notebooks/data_table.ipynb>data table notebook</a>'\n",
              "            + ' to learn more about interactive tables.';\n",
              "          element.innerHTML = '';\n",
              "          dataTable['output_type'] = 'display_data';\n",
              "          await google.colab.output.renderOutput(dataTable, element);\n",
              "          const docLink = document.createElement('div');\n",
              "          docLink.innerHTML = docLinkHtml;\n",
              "          element.appendChild(docLink);\n",
              "        }\n",
              "      </script>\n",
              "    </div>\n",
              "  </div>\n",
              "  "
            ],
            "text/plain": [
              "                   Price  Price/Earnings  ...  Price/Sales  Price/Book\n",
              "Price           1.000000        0.194761  ...     0.181625    0.023637\n",
              "Price/Earnings  0.194761        1.000000  ...     0.188558    0.000366\n",
              "Dividend Yield -0.244630       -0.181330  ...    -0.077724    0.089369\n",
              "Earnings/Share  0.591061        0.004570  ...    -0.036178    0.032254\n",
              "52 Week Low     0.995076        0.185356  ...     0.188823    0.023322\n",
              "52 Week High    0.982787        0.144700  ...     0.173721    0.017794\n",
              "Market Cap      0.406474        0.131381  ...     0.095249    0.034411\n",
              "EBITDA          0.180321        0.002950  ...    -0.037175    0.035547\n",
              "Price/Sales     0.181625        0.188558  ...     1.000000    0.012337\n",
              "Price/Book      0.023637        0.000366  ...     0.012337    1.000000\n",
              "\n",
              "[10 rows x 10 columns]"
            ]
          },
          "metadata": {},
          "execution_count": 16
        }
      ]
    },
    {
      "cell_type": "code",
      "source": [
        "# Regression data visualization\n",
        "# Highest Positive correlation (Closest to 1)\n",
        "\n",
        "seaborn.regplot(x='Price', y='52 Week Low', data=data, fit_reg=True)\n",
        "plt.xlabel(\"Price: Price per share of the company\") \n",
        "plt.ylabel(\"52 Week Low: The annual high and low of a company’s share price\")"
      ],
      "metadata": {
        "colab": {
          "base_uri": "https://localhost:8080/",
          "height": 382
        },
        "id": "Xq-C8PM9kotT",
        "outputId": "619c0846-faac-4bc1-e8bc-6b590b623131"
      },
      "execution_count": 17,
      "outputs": [
        {
          "output_type": "execute_result",
          "data": {
            "text/plain": [
              "Text(0, 0.5, '52 Week Low: The annual high and low of a company’s share price')"
            ]
          },
          "metadata": {},
          "execution_count": 17
        },
        {
          "output_type": "display_data",
          "data": {
            "image/png": "[encoded data removed]",
            "text/plain": [
              "<Figure size 432x288 with 1 Axes>"
            ]
          },
          "metadata": {
            "needs_background": "light"
          }
        }
      ]
    },
    {
      "cell_type": "code",
      "source": [
        "# Regression Result for Postivie correlation\n",
        "result_52Low = sm.OLS(data[\"Price\"], data[\"52 Week Low\"]).fit()\n",
        "result_52Low.summary()\n",
        "\n",
        "# The coefficient between Price and 52 Week Low is 0.8555 on the result.\n",
        "# It means that one unit change in stock price results in 0.8555 unit change in 52 Week Low. "
      ],
      "metadata": {
        "colab": {
          "base_uri": "https://localhost:8080/",
          "height": 423
        },
        "id": "o2dPYaeMkx0-",
        "outputId": "5258b1c0-e199-48f5-ac61-de1b9aabc0c0"
      },
      "execution_count": 18,
      "outputs": [
        {
          "output_type": "execute_result",
          "data": {
            "text/html": [
              "<table class=\"simpletable\">\n",
              "<caption>OLS Regression Results</caption>\n",
              "<tr>\n",
              "  <th>Dep. Variable:</th>          <td>Price</td>      <th>  R-squared (uncentered):</th>      <td>   0.994</td> \n",
              "</tr>\n",
              "<tr>\n",
              "  <th>Model:</th>                   <td>OLS</td>       <th>  Adj. R-squared (uncentered):</th> <td>   0.994</td> \n",
              "</tr>\n",
              "<tr>\n",
              "  <th>Method:</th>             <td>Least Squares</td>  <th>  F-statistic:       </th>          <td>8.061e+04</td>\n",
              "</tr>\n",
              "<tr>\n",
              "  <th>Date:</th>             <td>Sun, 27 Feb 2022</td> <th>  Prob (F-statistic):</th>           <td>  0.00</td>  \n",
              "</tr>\n",
              "<tr>\n",
              "  <th>Time:</th>                 <td>23:45:33</td>     <th>  Log-Likelihood:    </th>          <td> -2026.4</td> \n",
              "</tr>\n",
              "<tr>\n",
              "  <th>No. Observations:</th>      <td>   505</td>      <th>  AIC:               </th>          <td>   4055.</td> \n",
              "</tr>\n",
              "<tr>\n",
              "  <th>Df Residuals:</th>          <td>   504</td>      <th>  BIC:               </th>          <td>   4059.</td> \n",
              "</tr>\n",
              "<tr>\n",
              "  <th>Df Model:</th>              <td>     1</td>      <th>                     </th>              <td> </td>    \n",
              "</tr>\n",
              "<tr>\n",
              "  <th>Covariance Type:</th>      <td>nonrobust</td>    <th>                     </th>              <td> </td>    \n",
              "</tr>\n",
              "</table>\n",
              "<table class=\"simpletable\">\n",
              "<tr>\n",
              "       <td></td>          <th>coef</th>     <th>std err</th>      <th>t</th>      <th>P>|t|</th>  <th>[0.025</th>    <th>0.975]</th>  \n",
              "</tr>\n",
              "<tr>\n",
              "  <th>52 Week Low</th> <td>    0.8555</td> <td>    0.003</td> <td>  283.927</td> <td> 0.000</td> <td>    0.850</td> <td>    0.861</td>\n",
              "</tr>\n",
              "</table>\n",
              "<table class=\"simpletable\">\n",
              "<tr>\n",
              "  <th>Omnibus:</th>       <td>636.338</td> <th>  Durbin-Watson:     </th> <td>   2.011</td> \n",
              "</tr>\n",
              "<tr>\n",
              "  <th>Prob(Omnibus):</th> <td> 0.000</td>  <th>  Jarque-Bera (JB):  </th> <td>97440.296</td>\n",
              "</tr>\n",
              "<tr>\n",
              "  <th>Skew:</th>          <td>-5.979</td>  <th>  Prob(JB):          </th> <td>    0.00</td> \n",
              "</tr>\n",
              "<tr>\n",
              "  <th>Kurtosis:</th>      <td>69.991</td>  <th>  Cond. No.          </th> <td>    1.00</td> \n",
              "</tr>\n",
              "</table><br/><br/>Warnings:<br/>[1] Standard Errors assume that the covariance matrix of the errors is correctly specified."
            ],
            "text/plain": [
              "<class 'statsmodels.iolib.summary.Summary'>\n",
              "\"\"\"\n",
              "                                 OLS Regression Results                                \n",
              "=======================================================================================\n",
              "Dep. Variable:                  Price   R-squared (uncentered):                   0.994\n",
              "Model:                            OLS   Adj. R-squared (uncentered):              0.994\n",
              "Method:                 Least Squares   F-statistic:                          8.061e+04\n",
              "Date:                Sun, 27 Feb 2022   Prob (F-statistic):                        0.00\n",
              "Time:                        23:45:33   Log-Likelihood:                         -2026.4\n",
              "No. Observations:                 505   AIC:                                      4055.\n",
              "Df Residuals:                     504   BIC:                                      4059.\n",
              "Df Model:                           1                                                  \n",
              "Covariance Type:            nonrobust                                                  \n",
              "===============================================================================\n",
              "                  coef    std err          t      P>|t|      [0.025      0.975]\n",
              "-------------------------------------------------------------------------------\n",
              "52 Week Low     0.8555      0.003    283.927      0.000       0.850       0.861\n",
              "==============================================================================\n",
              "Omnibus:                      636.338   Durbin-Watson:                   2.011\n",
              "Prob(Omnibus):                  0.000   Jarque-Bera (JB):            97440.296\n",
              "Skew:                          -5.979   Prob(JB):                         0.00\n",
              "Kurtosis:                      69.991   Cond. No.                         1.00\n",
              "==============================================================================\n",
              "\n",
              "Warnings:\n",
              "[1] Standard Errors assume that the covariance matrix of the errors is correctly specified.\n",
              "\"\"\""
            ]
          },
          "metadata": {},
          "execution_count": 18
        }
      ]
    },
    {
      "cell_type": "code",
      "source": [
        "# Regression data visualization\n",
        "# Negative correlation (Closest to -1)\n",
        "\n",
        "seaborn.regplot(x='Price', y='Dividend Yield', data=data, fit_reg=True)\n",
        "plt.xlabel(\"Price: Price per share of the company\") \n",
        "plt.ylabel(\"Dividend Yield: The ratio of the annual dividends per share divided by the price\")"
      ],
      "metadata": {
        "colab": {
          "base_uri": "https://localhost:8080/",
          "height": 446
        },
        "id": "he4jPwlyk4TU",
        "outputId": "f76e7290-04ae-4183-de97-1d5471ca466c"
      },
      "execution_count": 19,
      "outputs": [
        {
          "output_type": "execute_result",
          "data": {
            "text/plain": [
              "Text(0, 0.5, 'Dividend Yield: The ratio of the annual dividends per share divided by the price')"
            ]
          },
          "metadata": {},
          "execution_count": 19
        },
        {
          "output_type": "display_data",
          "data": {
            "image/png": "[encoded data removed]",
            "text/plain": [
              "<Figure size 432x288 with 1 Axes>"
            ]
          },
          "metadata": {
            "needs_background": "light"
          }
        }
      ]
    },
    {
      "cell_type": "code",
      "source": [
        "# Regression Result for Negative correlation\n",
        "result_Div = sm.OLS(data[\"Price\"], data[\"Dividend Yield\"]).fit()\n",
        "result_Div.summary()\n",
        "\n",
        "# The coefficient between Price and 52 Week Low is 24.5938 on the result.\n",
        "# It means that one unit change in stock price results in 24.5938 unit change in Dividend Yield.  "
      ],
      "metadata": {
        "colab": {
          "base_uri": "https://localhost:8080/",
          "height": 423
        },
        "id": "WBudc2a1k8EJ",
        "outputId": "4a5d17b3-23ca-4a46-b91c-d6f5eb6bd3a3"
      },
      "execution_count": 20,
      "outputs": [
        {
          "output_type": "execute_result",
          "data": {
            "text/html": [
              "<table class=\"simpletable\">\n",
              "<caption>OLS Regression Results</caption>\n",
              "<tr>\n",
              "  <th>Dep. Variable:</th>          <td>Price</td>      <th>  R-squared (uncentered):</th>      <td>   0.125</td>\n",
              "</tr>\n",
              "<tr>\n",
              "  <th>Model:</th>                   <td>OLS</td>       <th>  Adj. R-squared (uncentered):</th> <td>   0.123</td>\n",
              "</tr>\n",
              "<tr>\n",
              "  <th>Method:</th>             <td>Least Squares</td>  <th>  F-statistic:       </th>          <td>   71.97</td>\n",
              "</tr>\n",
              "<tr>\n",
              "  <th>Date:</th>             <td>Sun, 27 Feb 2022</td> <th>  Prob (F-statistic):</th>          <td>2.44e-16</td>\n",
              "</tr>\n",
              "<tr>\n",
              "  <th>Time:</th>                 <td>23:46:13</td>     <th>  Log-Likelihood:    </th>          <td> -3275.7</td>\n",
              "</tr>\n",
              "<tr>\n",
              "  <th>No. Observations:</th>      <td>   505</td>      <th>  AIC:               </th>          <td>   6553.</td>\n",
              "</tr>\n",
              "<tr>\n",
              "  <th>Df Residuals:</th>          <td>   504</td>      <th>  BIC:               </th>          <td>   6558.</td>\n",
              "</tr>\n",
              "<tr>\n",
              "  <th>Df Model:</th>              <td>     1</td>      <th>                     </th>              <td> </td>   \n",
              "</tr>\n",
              "<tr>\n",
              "  <th>Covariance Type:</th>      <td>nonrobust</td>    <th>                     </th>              <td> </td>   \n",
              "</tr>\n",
              "</table>\n",
              "<table class=\"simpletable\">\n",
              "<tr>\n",
              "         <td></td>           <th>coef</th>     <th>std err</th>      <th>t</th>      <th>P>|t|</th>  <th>[0.025</th>    <th>0.975]</th>  \n",
              "</tr>\n",
              "<tr>\n",
              "  <th>Dividend Yield</th> <td>   24.5938</td> <td>    2.899</td> <td>    8.484</td> <td> 0.000</td> <td>   18.898</td> <td>   30.289</td>\n",
              "</tr>\n",
              "</table>\n",
              "<table class=\"simpletable\">\n",
              "<tr>\n",
              "  <th>Omnibus:</th>       <td>626.908</td> <th>  Durbin-Watson:     </th> <td>   1.671</td> \n",
              "</tr>\n",
              "<tr>\n",
              "  <th>Prob(Omnibus):</th> <td> 0.000</td>  <th>  Jarque-Bera (JB):  </th> <td>67468.264</td>\n",
              "</tr>\n",
              "<tr>\n",
              "  <th>Skew:</th>          <td> 5.985</td>  <th>  Prob(JB):          </th> <td>    0.00</td> \n",
              "</tr>\n",
              "<tr>\n",
              "  <th>Kurtosis:</th>      <td>58.345</td>  <th>  Cond. No.          </th> <td>    1.00</td> \n",
              "</tr>\n",
              "</table><br/><br/>Warnings:<br/>[1] Standard Errors assume that the covariance matrix of the errors is correctly specified."
            ],
            "text/plain": [
              "<class 'statsmodels.iolib.summary.Summary'>\n",
              "\"\"\"\n",
              "                                 OLS Regression Results                                \n",
              "=======================================================================================\n",
              "Dep. Variable:                  Price   R-squared (uncentered):                   0.125\n",
              "Model:                            OLS   Adj. R-squared (uncentered):              0.123\n",
              "Method:                 Least Squares   F-statistic:                              71.97\n",
              "Date:                Sun, 27 Feb 2022   Prob (F-statistic):                    2.44e-16\n",
              "Time:                        23:46:13   Log-Likelihood:                         -3275.7\n",
              "No. Observations:                 505   AIC:                                      6553.\n",
              "Df Residuals:                     504   BIC:                                      6558.\n",
              "Df Model:                           1                                                  \n",
              "Covariance Type:            nonrobust                                                  \n",
              "==================================================================================\n",
              "                     coef    std err          t      P>|t|      [0.025      0.975]\n",
              "----------------------------------------------------------------------------------\n",
              "Dividend Yield    24.5938      2.899      8.484      0.000      18.898      30.289\n",
              "==============================================================================\n",
              "Omnibus:                      626.908   Durbin-Watson:                   1.671\n",
              "Prob(Omnibus):                  0.000   Jarque-Bera (JB):            67468.264\n",
              "Skew:                           5.985   Prob(JB):                         0.00\n",
              "Kurtosis:                      58.345   Cond. No.                         1.00\n",
              "==============================================================================\n",
              "\n",
              "Warnings:\n",
              "[1] Standard Errors assume that the covariance matrix of the errors is correctly specified.\n",
              "\"\"\""
            ]
          },
          "metadata": {},
          "execution_count": 20
        }
      ]
    },
    {
      "cell_type": "code",
      "source": [
        "# Bar Chart Data Visualization (Positive Correlation)\n",
        "\n",
        "seaborn.distplot(data['Earnings/Share'].dropna(), kde=True)\n",
        "plt.xlabel(\"A company’s profit divided by the number of shares of its stock\")\n",
        "plt.title(\"Earnings/Share\")"
      ],
      "metadata": {
        "colab": {
          "base_uri": "https://localhost:8080/",
          "height": 367
        },
        "id": "oyipONOtlBtF",
        "outputId": "836b8286-aefa-4586-f31e-c2c4b095f468"
      },
      "execution_count": 21,
      "outputs": [
        {
          "output_type": "stream",
          "name": "stderr",
          "text": [
            "/usr/local/lib/python3.7/dist-packages/seaborn/distributions.py:2619: FutureWarning: `distplot` is a deprecated function and will be removed in a future version. Please adapt your code to use either `displot` (a figure-level function with similar flexibility) or `histplot` (an axes-level function for histograms).\n",
            "  warnings.warn(msg, FutureWarning)\n"
          ]
        },
        {
          "output_type": "execute_result",
          "data": {
            "text/plain": [
              "Text(0.5, 1.0, 'Earnings/Share')"
            ]
          },
          "metadata": {},
          "execution_count": 21
        },
        {
          "output_type": "display_data",
          "data": {
            "image/png": "[encoded data removed]",
            "text/plain": [
              "<Figure size 432x288 with 1 Axes>"
            ]
          },
          "metadata": {
            "needs_background": "light"
          }
        }
      ]
    },
    {
      "cell_type": "code",
      "source": [
        "# Regression data visualization\n",
        "# Positive correlation\n",
        "\n",
        "seaborn.regplot(x='Price', y='Earnings/Share', data=data, fit_reg=True)\n",
        "plt.xlabel(\"Price: Price per share of the company\") \n",
        "plt.ylabel(\"Earnings Per Share (EPS): A company’s profit divided by the number of shares of its stock\")"
      ],
      "metadata": {
        "colab": {
          "base_uri": "https://localhost:8080/",
          "height": 495
        },
        "id": "fkBl7esqlFfv",
        "outputId": "96786318-c9b1-45e2-b7ca-a18f1ce11f1a"
      },
      "execution_count": 22,
      "outputs": [
        {
          "output_type": "execute_result",
          "data": {
            "text/plain": [
              "Text(0, 0.5, 'Earnings Per Share (EPS): A company’s profit divided by the number of shares of its stock')"
            ]
          },
          "metadata": {},
          "execution_count": 22
        },
        {
          "output_type": "display_data",
          "data": {
            "image/png": "[encoded data removed]",
            "text/plain": [
              "<Figure size 432x288 with 1 Axes>"
            ]
          },
          "metadata": {
            "needs_background": "light"
          }
        }
      ]
    },
    {
      "cell_type": "code",
      "source": [
        "# Regression Result for Postivie correlation\n",
        "result_52Low = sm.OLS(data[\"Price\"], data[\"Earnings/Share\"]).fit()\n",
        "result_52Low.summary()\n",
        "\n",
        "# The coefficient between Price and 52 Week Low is 18.1257 on the result.\n",
        "# It means that one unit change in stock price results in 18.1257 unit change in 52 Week Low.  "
      ],
      "metadata": {
        "colab": {
          "base_uri": "https://localhost:8080/",
          "height": 423
        },
        "id": "Yp7RVdRflMdx",
        "outputId": "d061f20c-cca7-4548-aba0-d34fe9552477"
      },
      "execution_count": 23,
      "outputs": [
        {
          "output_type": "execute_result",
          "data": {
            "text/html": [
              "<table class=\"simpletable\">\n",
              "<caption>OLS Regression Results</caption>\n",
              "<tr>\n",
              "  <th>Dep. Variable:</th>          <td>Price</td>      <th>  R-squared (uncentered):</th>      <td>   0.529</td>\n",
              "</tr>\n",
              "<tr>\n",
              "  <th>Model:</th>                   <td>OLS</td>       <th>  Adj. R-squared (uncentered):</th> <td>   0.528</td>\n",
              "</tr>\n",
              "<tr>\n",
              "  <th>Method:</th>             <td>Least Squares</td>  <th>  F-statistic:       </th>          <td>   565.9</td>\n",
              "</tr>\n",
              "<tr>\n",
              "  <th>Date:</th>             <td>Sun, 27 Feb 2022</td> <th>  Prob (F-statistic):</th>          <td>2.02e-84</td>\n",
              "</tr>\n",
              "<tr>\n",
              "  <th>Time:</th>                 <td>23:47:36</td>     <th>  Log-Likelihood:    </th>          <td> -3119.3</td>\n",
              "</tr>\n",
              "<tr>\n",
              "  <th>No. Observations:</th>      <td>   505</td>      <th>  AIC:               </th>          <td>   6241.</td>\n",
              "</tr>\n",
              "<tr>\n",
              "  <th>Df Residuals:</th>          <td>   504</td>      <th>  BIC:               </th>          <td>   6245.</td>\n",
              "</tr>\n",
              "<tr>\n",
              "  <th>Df Model:</th>              <td>     1</td>      <th>                     </th>              <td> </td>   \n",
              "</tr>\n",
              "<tr>\n",
              "  <th>Covariance Type:</th>      <td>nonrobust</td>    <th>                     </th>              <td> </td>   \n",
              "</tr>\n",
              "</table>\n",
              "<table class=\"simpletable\">\n",
              "<tr>\n",
              "         <td></td>           <th>coef</th>     <th>std err</th>      <th>t</th>      <th>P>|t|</th>  <th>[0.025</th>    <th>0.975]</th>  \n",
              "</tr>\n",
              "<tr>\n",
              "  <th>Earnings/Share</th> <td>   18.1257</td> <td>    0.762</td> <td>   23.789</td> <td> 0.000</td> <td>   16.629</td> <td>   19.623</td>\n",
              "</tr>\n",
              "</table>\n",
              "<table class=\"simpletable\">\n",
              "<tr>\n",
              "  <th>Omnibus:</th>       <td>547.538</td> <th>  Durbin-Watson:     </th> <td>   1.804</td> \n",
              "</tr>\n",
              "<tr>\n",
              "  <th>Prob(Omnibus):</th> <td> 0.000</td>  <th>  Jarque-Bera (JB):  </th> <td>43758.433</td>\n",
              "</tr>\n",
              "<tr>\n",
              "  <th>Skew:</th>          <td> 4.790</td>  <th>  Prob(JB):          </th> <td>    0.00</td> \n",
              "</tr>\n",
              "<tr>\n",
              "  <th>Kurtosis:</th>      <td>47.585</td>  <th>  Cond. No.          </th> <td>    1.00</td> \n",
              "</tr>\n",
              "</table><br/><br/>Warnings:<br/>[1] Standard Errors assume that the covariance matrix of the errors is correctly specified."
            ],
            "text/plain": [
              "<class 'statsmodels.iolib.summary.Summary'>\n",
              "\"\"\"\n",
              "                                 OLS Regression Results                                \n",
              "=======================================================================================\n",
              "Dep. Variable:                  Price   R-squared (uncentered):                   0.529\n",
              "Model:                            OLS   Adj. R-squared (uncentered):              0.528\n",
              "Method:                 Least Squares   F-statistic:                              565.9\n",
              "Date:                Sun, 27 Feb 2022   Prob (F-statistic):                    2.02e-84\n",
              "Time:                        23:47:36   Log-Likelihood:                         -3119.3\n",
              "No. Observations:                 505   AIC:                                      6241.\n",
              "Df Residuals:                     504   BIC:                                      6245.\n",
              "Df Model:                           1                                                  \n",
              "Covariance Type:            nonrobust                                                  \n",
              "==================================================================================\n",
              "                     coef    std err          t      P>|t|      [0.025      0.975]\n",
              "----------------------------------------------------------------------------------\n",
              "Earnings/Share    18.1257      0.762     23.789      0.000      16.629      19.623\n",
              "==============================================================================\n",
              "Omnibus:                      547.538   Durbin-Watson:                   1.804\n",
              "Prob(Omnibus):                  0.000   Jarque-Bera (JB):            43758.433\n",
              "Skew:                           4.790   Prob(JB):                         0.00\n",
              "Kurtosis:                      47.585   Cond. No.                         1.00\n",
              "==============================================================================\n",
              "\n",
              "Warnings:\n",
              "[1] Standard Errors assume that the covariance matrix of the errors is correctly specified.\n",
              "\"\"\""
            ]
          },
          "metadata": {},
          "execution_count": 23
        }
      ]
    }
  ]
}